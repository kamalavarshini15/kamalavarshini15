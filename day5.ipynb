{
  "nbformat": 4,
  "nbformat_minor": 0,
  "metadata": {
    "colab": {
      "provenance": [],
      "authorship_tag": "ABX9TyNJl4V92VIIDi8wcuGsKUrc",
      "include_colab_link": true
    },
    "kernelspec": {
      "name": "python3",
      "display_name": "Python 3"
    },
    "language_info": {
      "name": "python"
    }
  },
  "cells": [
    {
      "cell_type": "markdown",
      "metadata": {
        "id": "view-in-github",
        "colab_type": "text"
      },
      "source": [
        "<a href=\"https://colab.research.google.com/github/kamalavarshini15/kamalavarshini15/blob/main/day5.ipynb\" target=\"_parent\"><img src=\"https://colab.research.google.com/assets/colab-badge.svg\" alt=\"Open In Colab\"/></a>"
      ]
    },
    {
      "cell_type": "code",
      "execution_count": null,
      "metadata": {
        "colab": {
          "base_uri": "https://localhost:8080/"
        },
        "id": "WgVdmtD8H1MK",
        "outputId": "b497908d-ea53-4d7e-a547-7af78ee85d8f"
      },
      "outputs": [
        {
          "output_type": "stream",
          "name": "stdout",
          "text": [
            "1\n",
            "2\n",
            "3\n"
          ]
        }
      ],
      "source": [
        "i = 1\n",
        "while(i<=5):\n",
        "  print(i)\n",
        "  if i == 3:\n",
        "      break\n",
        "  i = i + 1\n",
        "  "
      ]
    },
    {
      "cell_type": "markdown",
      "source": [
        "break continue  these are transfer statement \n",
        "\n",
        "pass is a dummy statement"
      ],
      "metadata": {
        "id": "qvKvFWI2JrqD"
      }
    },
    {
      "cell_type": "code",
      "source": [
        "i = 0\n",
        "while i<=5:\n",
        "  i = i + 1\n",
        "  if i%2==0:\n",
        "    continue \n",
        "  print(i)"
      ],
      "metadata": {
        "colab": {
          "base_uri": "https://localhost:8080/"
        },
        "id": "KXUW0irgK1j_",
        "outputId": "972fca3e-0a20-4003-82de-69eb82fe25fc"
      },
      "execution_count": null,
      "outputs": [
        {
          "output_type": "stream",
          "name": "stdout",
          "text": [
            "1\n",
            "3\n",
            "5\n"
          ]
        }
      ]
    },
    {
      "cell_type": "code",
      "source": [
        "L = [int(x) for x in input(\"Enter the numbers:\").split()]\n",
        "key = int(input(\"Enter number to search\"))\n",
        "i = 0\n",
        "while i<len(L):\n",
        "  if key == L[i]:\n",
        "    print(\"Element found at index\",i)\n",
        "    break\n",
        "  i = i + 1\n",
        "if i==len(L):\n",
        "  print(\"Element not found \")\n",
        "\n"
      ],
      "metadata": {
        "colab": {
          "base_uri": "https://localhost:8080/"
        },
        "id": "jbX2ehunL7KM",
        "outputId": "2b0d1064-e5f8-4a9a-ce93-96bb921b22ea"
      },
      "execution_count": null,
      "outputs": [
        {
          "output_type": "stream",
          "name": "stdout",
          "text": [
            "Enter the numbers:5 6 7 \n",
            "Enter number to search7\n",
            "Element found at index 2\n"
          ]
        }
      ]
    },
    {
      "cell_type": "code",
      "source": [
        "i = 1\n",
        "while i<=5:\n",
        "  print(i)\n",
        "  if i == 3:\n",
        "    break\n",
        "  i = i + 1\n",
        "else:\n",
        "  print(\"else block\")\n",
        "print(\"done\")"
      ],
      "metadata": {
        "colab": {
          "base_uri": "https://localhost:8080/"
        },
        "id": "3JmfOBTZL7Vm",
        "outputId": "6b2d690c-491a-4db7-a4d2-f22d796b3fcd"
      },
      "execution_count": null,
      "outputs": [
        {
          "output_type": "stream",
          "name": "stdout",
          "text": [
            "1\n",
            "2\n",
            "3\n",
            "done\n"
          ]
        }
      ]
    },
    {
      "cell_type": "code",
      "source": [
        "i = 1\n",
        "while i<=5:\n",
        "  print(i)\n",
        "  \n",
        "  i = i + 1\n",
        "else:\n",
        "  print(\"else block\")\n",
        "print(\"done\")"
      ],
      "metadata": {
        "colab": {
          "base_uri": "https://localhost:8080/"
        },
        "id": "eNvxoZFHL7fq",
        "outputId": "cff14ee2-9ecf-4e0d-8050-4ec0244c214b"
      },
      "execution_count": null,
      "outputs": [
        {
          "output_type": "stream",
          "name": "stdout",
          "text": [
            "1\n",
            "2\n",
            "3\n",
            "4\n",
            "5\n",
            "else block\n",
            "done\n"
          ]
        }
      ]
    },
    {
      "cell_type": "code",
      "source": [
        "L = [1,2,3]\n",
        "for x in L:\n",
        "  print(x)"
      ],
      "metadata": {
        "colab": {
          "base_uri": "https://localhost:8080/"
        },
        "id": "ZewXJlfrQHYk",
        "outputId": "fb9009ba-dbdd-4ced-b900-7f335a010641"
      },
      "execution_count": null,
      "outputs": [
        {
          "output_type": "stream",
          "name": "stdout",
          "text": [
            "1\n",
            "2\n",
            "3\n"
          ]
        }
      ]
    },
    {
      "cell_type": "code",
      "source": [
        "for x in \"kamala\":\n",
        "  print(x)"
      ],
      "metadata": {
        "colab": {
          "base_uri": "https://localhost:8080/"
        },
        "id": "Suutd4E3QHbj",
        "outputId": "828d90b0-0551-4abb-d0c1-b1a5c8d5f909"
      },
      "execution_count": null,
      "outputs": [
        {
          "output_type": "stream",
          "name": "stdout",
          "text": [
            "k\n",
            "a\n",
            "m\n",
            "a\n",
            "l\n",
            "a\n"
          ]
        }
      ]
    },
    {
      "cell_type": "code",
      "source": [
        "list(range(5,101,5))"
      ],
      "metadata": {
        "colab": {
          "base_uri": "https://localhost:8080/"
        },
        "id": "UZ4SBWb7QHeI",
        "outputId": "7145f50c-cb0d-4e86-8f4d-075e8ad96ded"
      },
      "execution_count": null,
      "outputs": [
        {
          "output_type": "execute_result",
          "data": {
            "text/plain": [
              "[5,\n",
              " 10,\n",
              " 15,\n",
              " 20,\n",
              " 25,\n",
              " 30,\n",
              " 35,\n",
              " 40,\n",
              " 45,\n",
              " 50,\n",
              " 55,\n",
              " 60,\n",
              " 65,\n",
              " 70,\n",
              " 75,\n",
              " 80,\n",
              " 85,\n",
              " 90,\n",
              " 95,\n",
              " 100]"
            ]
          },
          "metadata": {},
          "execution_count": 19
        }
      ]
    },
    {
      "cell_type": "code",
      "source": [
        "L=[1,2,3,4,5,6,7]\n",
        "for i in range(len(L)):\n",
        "  L[i] = L[i] + 4\n",
        "  print(L[i])\n",
        "\n"
      ],
      "metadata": {
        "colab": {
          "base_uri": "https://localhost:8080/"
        },
        "id": "1hBrEMHrQHhg",
        "outputId": "be81407c-840d-480d-966e-42e6f0699c89"
      },
      "execution_count": null,
      "outputs": [
        {
          "output_type": "stream",
          "name": "stdout",
          "text": [
            "5\n",
            "6\n",
            "7\n",
            "8\n",
            "9\n",
            "10\n",
            "11\n"
          ]
        }
      ]
    },
    {
      "cell_type": "code",
      "source": [],
      "metadata": {
        "id": "owX5ZAZtWQt3"
      },
      "execution_count": null,
      "outputs": []
    },
    {
      "cell_type": "code",
      "source": [],
      "metadata": {
        "id": "fzXrYSEYWQwe"
      },
      "execution_count": null,
      "outputs": []
    },
    {
      "cell_type": "code",
      "source": [
        "L1 = [1,2,3]\n",
        "L2 = [\"k\",\"a\",\"m\"]\n",
        "for x,y in list(zip(L1,L2)):\n",
        "  print(x,y)"
      ],
      "metadata": {
        "colab": {
          "base_uri": "https://localhost:8080/"
        },
        "id": "Abk83Ls4WQy8",
        "outputId": "6ffa67e0-9c83-4a8b-f2cd-d44adcdafd53"
      },
      "execution_count": null,
      "outputs": [
        {
          "output_type": "stream",
          "name": "stdout",
          "text": [
            "1 k\n",
            "2 a\n",
            "3 m\n"
          ]
        }
      ]
    },
    {
      "cell_type": "code",
      "source": [
        "L =[1,2,3]\n",
        "[x*2 for x in L]\n",
        "  "
      ],
      "metadata": {
        "colab": {
          "base_uri": "https://localhost:8080/"
        },
        "id": "A_2CrqWHWQ1w",
        "outputId": "92915408-95ad-49f1-f8ef-e0741d637d2a"
      },
      "execution_count": null,
      "outputs": [
        {
          "output_type": "execute_result",
          "data": {
            "text/plain": [
              "[2, 4, 6]"
            ]
          },
          "metadata": {},
          "execution_count": 24
        }
      ]
    },
    {
      "cell_type": "code",
      "source": [
        "[x for x in L if x%2 == 0]"
      ],
      "metadata": {
        "colab": {
          "base_uri": "https://localhost:8080/"
        },
        "id": "sJqFP9clWQ4E",
        "outputId": "f86d1a1e-071e-487e-e859-43abe22a0a12"
      },
      "execution_count": null,
      "outputs": [
        {
          "output_type": "execute_result",
          "data": {
            "text/plain": [
              "[2]"
            ]
          },
          "metadata": {},
          "execution_count": 25
        }
      ]
    },
    {
      "cell_type": "code",
      "source": [
        "[ x for x in range(1,101) if x%7 == 0]"
      ],
      "metadata": {
        "colab": {
          "base_uri": "https://localhost:8080/"
        },
        "id": "6D9SKNgwWQ7h",
        "outputId": "4dda30f1-f57d-455c-e0bc-76a5a8d46bbf"
      },
      "execution_count": null,
      "outputs": [
        {
          "output_type": "execute_result",
          "data": {
            "text/plain": [
              "[7, 14, 21, 28, 35, 42, 49, 56, 63, 70, 77, 84, 91, 98]"
            ]
          },
          "metadata": {},
          "execution_count": 27
        }
      ]
    },
    {
      "cell_type": "code",
      "source": [
        "[(x,y) for x in [1,2] for y in [3,4]]"
      ],
      "metadata": {
        "colab": {
          "base_uri": "https://localhost:8080/"
        },
        "id": "BnDnJA95dlkG",
        "outputId": "0e49ead7-229e-44b5-bb64-8aebe4ff3515"
      },
      "execution_count": null,
      "outputs": [
        {
          "output_type": "execute_result",
          "data": {
            "text/plain": [
              "[(1, 3), (1, 4), (2, 3), (2, 4)]"
            ]
          },
          "metadata": {},
          "execution_count": 29
        }
      ]
    },
    {
      "cell_type": "code",
      "source": [
        "[2**x for x in range(10) if x>5]"
      ],
      "metadata": {
        "colab": {
          "base_uri": "https://localhost:8080/"
        },
        "id": "FaboUVaSeLMx",
        "outputId": "bfc608a9-40ea-44a6-d444-356185806ca4"
      },
      "execution_count": null,
      "outputs": [
        {
          "output_type": "execute_result",
          "data": {
            "text/plain": [
              "[64, 128, 256, 512]"
            ]
          },
          "metadata": {},
          "execution_count": 30
        }
      ]
    },
    {
      "cell_type": "code",
      "source": [
        "[x for x in range(20) if x%2 == 1]"
      ],
      "metadata": {
        "colab": {
          "base_uri": "https://localhost:8080/"
        },
        "id": "NaaNEGg5eXFo",
        "outputId": "48d4bc65-5c16-4874-a072-16982fc36064"
      },
      "execution_count": null,
      "outputs": [
        {
          "output_type": "execute_result",
          "data": {
            "text/plain": [
              "[1, 3, 5, 7, 9, 11, 13, 15, 17, 19]"
            ]
          },
          "metadata": {},
          "execution_count": 31
        }
      ]
    },
    {
      "cell_type": "code",
      "source": [
        "[x+y for x in ['Python']]"
      ],
      "metadata": {
        "id": "0VIxllUuehoS"
      },
      "execution_count": null,
      "outputs": []
    },
    {
      "cell_type": "code",
      "source": [
        "a,b = [int(x) for x in input().split()]"
      ],
      "metadata": {
        "colab": {
          "base_uri": "https://localhost:8080/"
        },
        "id": "e3-WQLbYexu7",
        "outputId": "3bfe71ec-f5d1-459f-e632-1810318638b6"
      },
      "execution_count": null,
      "outputs": [
        {
          "name": "stdout",
          "output_type": "stream",
          "text": [
            "5 6 \n"
          ]
        }
      ]
    },
    {
      "cell_type": "code",
      "source": [
        "dictionaries # keys are immutable and unique and values are may have repeatation "
      ],
      "metadata": {
        "id": "_Isgsr2_exyr"
      },
      "execution_count": null,
      "outputs": []
    },
    {
      "cell_type": "code",
      "source": [
        "D = {'fruit':'Grape','qty': 6,'color' :'Green'}"
      ],
      "metadata": {
        "id": "5V0ZzCivex4Y"
      },
      "execution_count": null,
      "outputs": []
    },
    {
      "cell_type": "code",
      "source": [
        "d2 = {}"
      ],
      "metadata": {
        "id": "Kjw6bvYiex7m"
      },
      "execution_count": null,
      "outputs": []
    },
    {
      "cell_type": "code",
      "source": [
        "type(d2)"
      ],
      "metadata": {
        "colab": {
          "base_uri": "https://localhost:8080/"
        },
        "id": "jm0cVcrsex9i",
        "outputId": "18be6ff9-61e9-4784-b7d6-460a68b8495b"
      },
      "execution_count": null,
      "outputs": [
        {
          "output_type": "execute_result",
          "data": {
            "text/plain": [
              "dict"
            ]
          },
          "metadata": {},
          "execution_count": 42
        }
      ]
    },
    {
      "cell_type": "code",
      "source": [
        "l = [(1,\"one\"),(2,\"two\")]\n",
        "a = dict(l)"
      ],
      "metadata": {
        "id": "TwSe1WBJhm6q"
      },
      "execution_count": null,
      "outputs": []
    },
    {
      "cell_type": "code",
      "source": [
        "print(a)"
      ],
      "metadata": {
        "colab": {
          "base_uri": "https://localhost:8080/"
        },
        "id": "ygd0n11RhnBP",
        "outputId": "d1de8445-4c3f-4ffa-cfff-210d7329376d"
      },
      "execution_count": null,
      "outputs": [
        {
          "output_type": "stream",
          "name": "stdout",
          "text": [
            "{1: 'one', 2: 'two'}\n"
          ]
        }
      ]
    },
    {
      "cell_type": "code",
      "source": [
        "{x : 2*x for x in range(1,6)}"
      ],
      "metadata": {
        "colab": {
          "base_uri": "https://localhost:8080/"
        },
        "id": "oUNGI3GIex__",
        "outputId": "aecb0040-72a0-4c25-d008-7251be532724"
      },
      "execution_count": null,
      "outputs": [
        {
          "output_type": "execute_result",
          "data": {
            "text/plain": [
              "{1: 2, 2: 4, 3: 6, 4: 8, 5: 10}"
            ]
          },
          "metadata": {},
          "execution_count": 45
        }
      ]
    },
    {
      "cell_type": "code",
      "source": [
        "D.has"
      ],
      "metadata": {
        "id": "wEm9t_7uknkH"
      },
      "execution_count": null,
      "outputs": []
    },
    {
      "cell_type": "code",
      "source": [
        "#count the frequncy of the characters \n",
        "str = input()\n",
        "d = {}\n",
        "for s in str:\n",
        "  if s in d.keys():\n",
        "    d[s] = d[s] + 1\n",
        "    \n",
        "  else:\n",
        "    d[s] =1\n",
        "  print(d)"
      ],
      "metadata": {
        "colab": {
          "base_uri": "https://localhost:8080/"
        },
        "id": "Fr5sgnpfiXzj",
        "outputId": "2601a2e2-9c91-4393-935a-e500c463479a"
      },
      "execution_count": null,
      "outputs": [
        {
          "output_type": "stream",
          "name": "stdout",
          "text": [
            "hello\n",
            "{'h': 1}\n",
            "{'h': 1, 'e': 1}\n",
            "{'h': 1, 'e': 1, 'l': 1}\n",
            "{'h': 1, 'e': 1, 'l': 2}\n",
            "{'h': 1, 'e': 1, 'l': 2, 'o': 1}\n"
          ]
        }
      ]
    },
    {
      "cell_type": "code",
      "source": [],
      "metadata": {
        "id": "vPaGHVWUkl3R"
      },
      "execution_count": null,
      "outputs": []
    },
    {
      "cell_type": "code",
      "source": [],
      "metadata": {
        "id": "30-Dv3pciX6K"
      },
      "execution_count": null,
      "outputs": []
    },
    {
      "cell_type": "code",
      "source": [],
      "metadata": {
        "id": "oaAKhyTwiX-f"
      },
      "execution_count": null,
      "outputs": []
    }
  ]
}