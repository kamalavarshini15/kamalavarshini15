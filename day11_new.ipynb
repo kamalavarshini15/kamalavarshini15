{
  "nbformat": 4,
  "nbformat_minor": 0,
  "metadata": {
    "colab": {
      "provenance": [],
      "authorship_tag": "ABX9TyNskg8quvWAwpHimFEu9SJN",
      "include_colab_link": true
    },
    "kernelspec": {
      "name": "python3",
      "display_name": "Python 3"
    },
    "language_info": {
      "name": "python"
    }
  },
  "cells": [
    {
      "cell_type": "markdown",
      "metadata": {
        "id": "view-in-github",
        "colab_type": "text"
      },
      "source": [
        "<a href=\"https://colab.research.google.com/github/kamalavarshini15/kamalavarshini15/blob/main/day11_new.ipynb\" target=\"_parent\"><img src=\"https://colab.research.google.com/assets/colab-badge.svg\" alt=\"Open In Colab\"/></a>"
      ]
    },
    {
      "cell_type": "code",
      "execution_count": null,
      "metadata": {
        "colab": {
          "base_uri": "https://localhost:8080/"
        },
        "id": "nL46puCJ_jZC",
        "outputId": "584f89dd-8cd3-4089-f03d-359d65b15519"
      },
      "outputs": [
        {
          "output_type": "stream",
          "name": "stdout",
          "text": [
            "{'name': 'Rebu', 'Language': ['Tamil', 'English']}\n",
            "['Tamil', 'English']\n"
          ]
        }
      ],
      "source": [
        "import json\n",
        "p = '{\"name\": \"Rebu\",\"Language\":[\"Tamil\",\"English\"]}'\n",
        "p_dict = json.loads(p)\n",
        "print(p_dict)\n",
        "print(p_dict['Language'])"
      ]
    },
    {
      "cell_type": "code",
      "source": [
        "#linear search is brtute force"
      ],
      "metadata": {
        "id": "IOUS3FITC03L"
      },
      "execution_count": null,
      "outputs": []
    },
    {
      "cell_type": "code",
      "source": [
        "def linerasearch(array,x):\n",
        "  for i in range(x,len(array)):\n",
        "    if (array[i] == x):\n",
        "      return i\n",
        "  return -1"
      ],
      "metadata": {
        "id": "47hVFMB3C055"
      },
      "execution_count": null,
      "outputs": []
    },
    {
      "cell_type": "code",
      "source": [
        "def binarysearch(array,x):\n",
        "  low = 0\n",
        "  high = len(array)\n",
        "\n",
        "  while low<=high:\n",
        "    mid = (low + high)//2\n",
        "\n",
        "  if array[mid] == x:\n",
        "    return mid\n",
        "  elif array[mid] <x: #right half\n",
        "    low = mid + 1\n",
        "  else: #left half\n",
        "    high = mid - 1\n",
        "\n",
        "  return -1\n"
      ],
      "metadata": {
        "id": "_UYAlfahC08O"
      },
      "execution_count": null,
      "outputs": []
    },
    {
      "cell_type": "code",
      "source": [],
      "metadata": {
        "id": "5C6VHuW19-9n"
      },
      "execution_count": null,
      "outputs": []
    },
    {
      "cell_type": "code",
      "source": [
        "array = [2,3,4,6,7,8,9]\n",
        "x = 7\n",
        "\n",
        "result = binarysearch(array,x)\n",
        "\n",
        "if result != -1:\n",
        "  print(\"Element is found at index\")\n",
        "else:\n",
        "  print(\"Element not found\")"
      ],
      "metadata": {
        "id": "7KppsvbuC0_p"
      },
      "execution_count": null,
      "outputs": []
    },
    {
      "cell_type": "code",
      "source": [],
      "metadata": {
        "id": "5zFblGu-991D"
      },
      "execution_count": null,
      "outputs": []
    }
  ]
}