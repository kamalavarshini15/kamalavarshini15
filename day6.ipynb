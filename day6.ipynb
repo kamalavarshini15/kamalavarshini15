{
  "nbformat": 4,
  "nbformat_minor": 0,
  "metadata": {
    "colab": {
      "provenance": [],
      "authorship_tag": "ABX9TyONMfM3D1g98dQz5mdNf8ho",
      "include_colab_link": true
    },
    "kernelspec": {
      "name": "python3",
      "display_name": "Python 3"
    },
    "language_info": {
      "name": "python"
    }
  },
  "cells": [
    {
      "cell_type": "markdown",
      "metadata": {
        "id": "view-in-github",
        "colab_type": "text"
      },
      "source": [
        "<a href=\"https://colab.research.google.com/github/kamalavarshini15/kamalavarshini15/blob/main/day6.ipynb\" target=\"_parent\"><img src=\"https://colab.research.google.com/assets/colab-badge.svg\" alt=\"Open In Colab\"/></a>"
      ]
    },
    {
      "cell_type": "code",
      "execution_count": null,
      "metadata": {
        "id": "1gjT2-SMS9J4"
      },
      "outputs": [],
      "source": [
        "def fun1():\n",
        "  print(\"Hey kam\")"
      ]
    },
    {
      "cell_type": "code",
      "source": [
        "fun1()"
      ],
      "metadata": {
        "colab": {
          "base_uri": "https://localhost:8080/"
        },
        "id": "_sXPq7adXIxv",
        "outputId": "ae11c07a-6968-4a7e-e1b7-f757602a24b3"
      },
      "execution_count": null,
      "outputs": [
        {
          "output_type": "stream",
          "name": "stdout",
          "text": [
            "Hey kam\n"
          ]
        }
      ]
    },
    {
      "cell_type": "code",
      "source": [
        "def addition(a,b): #they are local variables #formal variables\n",
        "  s = a+b\n",
        "  return(s)"
      ],
      "metadata": {
        "id": "1_MvOvusXI0V"
      },
      "execution_count": null,
      "outputs": []
    },
    {
      "cell_type": "code",
      "source": [
        "x,y = 10,30\n",
        "addition(x,y)#actual arguments (2+3,5+6) can also be passed as expression \n"
      ],
      "metadata": {
        "colab": {
          "base_uri": "https://localhost:8080/"
        },
        "id": "zP5FfMrtXI4r",
        "outputId": "1db6bd77-e7c2-4618-cc77-3a402b470363"
      },
      "execution_count": null,
      "outputs": [
        {
          "output_type": "execute_result",
          "data": {
            "text/plain": [
              "40"
            ]
          },
          "metadata": {},
          "execution_count": 11
        }
      ]
    },
    {
      "cell_type": "code",
      "source": [
        "def fun2():\n",
        "  print(\"a\")\n",
        "  return\n",
        "  print(\"b\")"
      ],
      "metadata": {
        "id": "8vPY_97tXI68"
      },
      "execution_count": null,
      "outputs": []
    },
    {
      "cell_type": "code",
      "source": [
        "fun2()"
      ],
      "metadata": {
        "colab": {
          "base_uri": "https://localhost:8080/"
        },
        "id": "InXLyWz5XI9L",
        "outputId": "38bec21c-8865-4c64-9d86-83483505a48e"
      },
      "execution_count": null,
      "outputs": [
        {
          "output_type": "stream",
          "name": "stdout",
          "text": [
            "a\n"
          ]
        }
      ]
    },
    {
      "cell_type": "code",
      "source": [
        "def printstars():\n",
        "  for i in range(1,101):\n",
        "    print(\"*\",end =\" \")"
      ],
      "metadata": {
        "id": "z63GMxu0XI_e"
      },
      "execution_count": null,
      "outputs": []
    },
    {
      "cell_type": "code",
      "source": [
        "printstars()\n"
      ],
      "metadata": {
        "colab": {
          "base_uri": "https://localhost:8080/"
        },
        "id": "9eEtGZSsXJC7",
        "outputId": "0ab21226-66fc-4832-e8f4-ba982bf6b1ee"
      },
      "execution_count": null,
      "outputs": [
        {
          "output_type": "stream",
          "name": "stdout",
          "text": [
            "* * * * * * * * * * * * * * * * * * * * * * * * * * * * * * * * * * * * * * * * * * * * * * * * * * * * * * * * * * * * * * * * * * * * * * * * * * * * * * * * * * * * * * * * * * * * * * * * * * * * "
          ]
        }
      ]
    },
    {
      "cell_type": "code",
      "source": [
        "def cube(x):\n",
        "  c = x*x*x\n",
        "  return "
      ],
      "metadata": {
        "id": "K4V-l9u3XJb-"
      },
      "execution_count": null,
      "outputs": []
    },
    {
      "cell_type": "code",
      "source": [
        "cube()\n"
      ],
      "metadata": {
        "colab": {
          "base_uri": "https://localhost:8080/",
          "height": 165
        },
        "id": "5cOaCntUXJd4",
        "outputId": "ffcc4a71-b6de-4d31-f1d1-55f3b94f1396"
      },
      "execution_count": null,
      "outputs": [
        {
          "output_type": "error",
          "ename": "TypeError",
          "evalue": "ignored",
          "traceback": [
            "\u001b[0;31m---------------------------------------------------------------------------\u001b[0m",
            "\u001b[0;31mTypeError\u001b[0m                                 Traceback (most recent call last)",
            "\u001b[0;32m<ipython-input-24-2b69b1a6fb03>\u001b[0m in \u001b[0;36m<cell line: 1>\u001b[0;34m()\u001b[0m\n\u001b[0;32m----> 1\u001b[0;31m \u001b[0mcube\u001b[0m\u001b[0;34m(\u001b[0m\u001b[0;34m)\u001b[0m\u001b[0;34m\u001b[0m\u001b[0;34m\u001b[0m\u001b[0m\n\u001b[0m",
            "\u001b[0;31mTypeError\u001b[0m: cube() missing 1 required positional argument: 'x'"
          ]
        }
      ]
    },
    {
      "cell_type": "code",
      "source": [
        "def k4(k):\n",
        "  k = 99"
      ],
      "metadata": {
        "id": "biYm2qCUXJgc"
      },
      "execution_count": null,
      "outputs": []
    },
    {
      "cell_type": "code",
      "source": [
        "p = 100\n",
        "k4(p)\n",
        "print(p)"
      ],
      "metadata": {
        "colab": {
          "base_uri": "https://localhost:8080/"
        },
        "id": "IKXgX-CrXJio",
        "outputId": "b79a5e76-0abd-4423-f4df-ad9b37d4c29e"
      },
      "execution_count": null,
      "outputs": [
        {
          "output_type": "stream",
          "name": "stdout",
          "text": [
            "100\n"
          ]
        }
      ]
    },
    {
      "cell_type": "code",
      "source": [
        "def f5(k):\n",
        "  k.append(4)"
      ],
      "metadata": {
        "id": "hAlba6-gXJl9"
      },
      "execution_count": null,
      "outputs": []
    },
    {
      "cell_type": "code",
      "source": [
        "L = [1,2,3]\n",
        "f5(L)\n",
        "print(L)"
      ],
      "metadata": {
        "colab": {
          "base_uri": "https://localhost:8080/"
        },
        "id": "UEcWfgVQixZX",
        "outputId": "2d80ebd3-5a1d-48cf-c514-e0b33d5a658d"
      },
      "execution_count": null,
      "outputs": [
        {
          "output_type": "stream",
          "name": "stdout",
          "text": [
            "[1, 2, 3, 4]\n"
          ]
        }
      ]
    },
    {
      "cell_type": "code",
      "source": [
        "#collection of unreferrenced data is called garbabge collection "
      ],
      "metadata": {
        "id": "CUp7VnxWkPiT"
      },
      "execution_count": null,
      "outputs": []
    },
    {
      "cell_type": "code",
      "source": [
        "a,b,c = 7,8,9\n",
        "print(a,b,c, sep=\"&\")\n"
      ],
      "metadata": {
        "colab": {
          "base_uri": "https://localhost:8080/"
        },
        "id": "ZsIXt2OakPk3",
        "outputId": "fd43adef-fcce-42db-87cc-2964f3cb7fb9"
      },
      "execution_count": null,
      "outputs": [
        {
          "output_type": "stream",
          "name": "stdout",
          "text": [
            "7&8&9\n"
          ]
        }
      ]
    },
    {
      "cell_type": "code",
      "source": [
        "def f6(a,b,c):\n",
        "  print(a,b,c)"
      ],
      "metadata": {
        "id": "jucpkttWkPnH"
      },
      "execution_count": null,
      "outputs": []
    },
    {
      "cell_type": "code",
      "source": [
        "f6(2,3,5)"
      ],
      "metadata": {
        "colab": {
          "base_uri": "https://localhost:8080/"
        },
        "id": "3p8TU0VzkPqF",
        "outputId": "279f0b67-019d-4a93-a6c8-c8bb0412dd3d"
      },
      "execution_count": null,
      "outputs": [
        {
          "output_type": "stream",
          "name": "stdout",
          "text": [
            "2 3 5\n"
          ]
        }
      ]
    },
    {
      "cell_type": "code",
      "source": [
        "#default arguments\n",
        "def f7(a=10,b=3,c=6):\n",
        "  print(a,b,c)"
      ],
      "metadata": {
        "id": "cElzdiYXkPty"
      },
      "execution_count": null,
      "outputs": []
    },
    {
      "cell_type": "code",
      "source": [
        "f7(7,8)"
      ],
      "metadata": {
        "colab": {
          "base_uri": "https://localhost:8080/"
        },
        "id": "O7ZppAiaoiBW",
        "outputId": "88cff3c6-2cc8-40fe-ec01-27b29417c297"
      },
      "execution_count": null,
      "outputs": [
        {
          "output_type": "stream",
          "name": "stdout",
          "text": [
            "7 8 6\n"
          ]
        }
      ]
    },
    {
      "cell_type": "code",
      "source": [
        "#lambda - anonymous functions \n",
        "#general form of lambda: lambda arg1,arg2...argn:expression of arg\n",
        "def mul(a,b):\n",
        "  return a*b \n",
        "  \n"
      ],
      "metadata": {
        "id": "T3nH82uhoiEH"
      },
      "execution_count": null,
      "outputs": []
    },
    {
      "cell_type": "code",
      "source": [
        "mul(8,9)"
      ],
      "metadata": {
        "colab": {
          "base_uri": "https://localhost:8080/"
        },
        "id": "FSJwyK4PoiGy",
        "outputId": "81eca4c1-cabe-41ad-a5b5-cf501d81103e"
      },
      "execution_count": null,
      "outputs": [
        {
          "output_type": "execute_result",
          "data": {
            "text/plain": [
              "72"
            ]
          },
          "metadata": {},
          "execution_count": 38
        }
      ]
    },
    {
      "cell_type": "code",
      "source": [
        "f9 = lambda a,b : a+b"
      ],
      "metadata": {
        "id": "8v0WbPZLoiKW"
      },
      "execution_count": null,
      "outputs": []
    },
    {
      "cell_type": "code",
      "source": [
        "f9(9,81) #def is for bid task but lambda is for small task "
      ],
      "metadata": {
        "colab": {
          "base_uri": "https://localhost:8080/"
        },
        "id": "-uT6Rl2yq4ED",
        "outputId": "44fd013e-d83d-4d4b-b8c2-ec818aaf34ac"
      },
      "execution_count": null,
      "outputs": [
        {
          "output_type": "execute_result",
          "data": {
            "text/plain": [
              "90"
            ]
          },
          "metadata": {},
          "execution_count": 41
        }
      ]
    },
    {
      "cell_type": "code",
      "source": [
        "#lambda is used for higher order function \n",
        "def f10(x):\n",
        "  if x%2 ==0:\n",
        "    return True\n",
        "  else:\n",
        "    return False"
      ],
      "metadata": {
        "id": "vLSVevYuq4Ha"
      },
      "execution_count": null,
      "outputs": []
    },
    {
      "cell_type": "code",
      "source": [
        "def f10(x):\n",
        "  return x%2 ==0\n",
        "  "
      ],
      "metadata": {
        "id": "EJdcyv81sjI4"
      },
      "execution_count": null,
      "outputs": []
    },
    {
      "cell_type": "code",
      "source": [
        "f10(81)"
      ],
      "metadata": {
        "colab": {
          "base_uri": "https://localhost:8080/"
        },
        "id": "9jJlzY1_sjNv",
        "outputId": "4828d240-b11c-4501-dbb3-5ebbaffc80f3"
      },
      "execution_count": null,
      "outputs": [
        {
          "output_type": "execute_result",
          "data": {
            "text/plain": [
              "False"
            ]
          },
          "metadata": {},
          "execution_count": 44
        }
      ]
    },
    {
      "cell_type": "code",
      "source": [
        "L"
      ],
      "metadata": {
        "id": "cQRosUwOsjRH"
      },
      "execution_count": null,
      "outputs": []
    },
    {
      "cell_type": "code",
      "source": [
        "list(filter(f10,L))"
      ],
      "metadata": {
        "colab": {
          "base_uri": "https://localhost:8080/"
        },
        "id": "EJZ-xLf_tBh5",
        "outputId": "28d79d8e-cfb5-4690-b6e5-751ea89e5c14"
      },
      "execution_count": null,
      "outputs": [
        {
          "output_type": "execute_result",
          "data": {
            "text/plain": [
              "[2, 4]"
            ]
          },
          "metadata": {},
          "execution_count": 45
        }
      ]
    }
  ]
}